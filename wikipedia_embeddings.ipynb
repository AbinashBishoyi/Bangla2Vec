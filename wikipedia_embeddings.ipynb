{
 "cells": [
  {
   "cell_type": "code",
   "execution_count": 8,
   "metadata": {},
   "outputs": [],
   "source": [
    "import json\n",
    "import re\n",
    "import os\n",
    "import glob\n",
    "import string\n",
    "from gensim.models import Word2Vec\n",
    "\n",
    "from tqdm import tqdm"
   ]
  },
  {
   "cell_type": "code",
   "execution_count": 2,
   "metadata": {},
   "outputs": [],
   "source": [
    "files=glob.glob(os.path.join('data', 'wikidata', '*', '*'))"
   ]
  },
  {
   "cell_type": "code",
   "execution_count": 3,
   "metadata": {},
   "outputs": [
    {
     "name": "stdout",
     "output_type": "stream",
     "text": [
      "65041\n"
     ]
    }
   ],
   "source": [
    "texts=[]\n",
    "for file in files:\n",
    "    with open(file, 'r') as f:\n",
    "        for line in f:\n",
    "            texts.append(json.loads(line)['text'])\n",
    "\n",
    "print(len(texts))"
   ]
  },
  {
   "cell_type": "code",
   "execution_count": 4,
   "metadata": {},
   "outputs": [],
   "source": [
    "def replace_strings(texts, replace):\n",
    "    new_texts=[]\n",
    "    \n",
    "    emoji_pattern = re.compile(\"[\"\n",
    "                           u\"\\U0001F600-\\U0001F64F\"  # emoticons\n",
    "                           u\"\\U0001F300-\\U0001F5FF\"  # symbols & pictographs\n",
    "                           u\"\\U0001F680-\\U0001F6FF\"  # transport & map symbols\n",
    "                           u\"\\U0001F1E0-\\U0001F1FF\"  # flags (iOS)\n",
    "                           u\"\\U00002702-\\U000027B0\"\n",
    "                           u\"\\U000024C2-\\U0001F251\"\n",
    "                           \"]+\", flags=re.UNICODE)\n",
    "    english_pattern=re.compile('[a-zA-Z0-9]+', flags=re.I)\n",
    "    bengali_pattern=re.compile('[০-৯]+', flags=re.I)\n",
    "    \n",
    "    for text in tqdm(texts):\n",
    "        for r in replace:\n",
    "            text=text.replace(r[0], r[1])\n",
    "        text=emoji_pattern.sub(r'', text)\n",
    "        text=english_pattern.sub(r'', text)\n",
    "        text=bengali_pattern.sub(r'', text)\n",
    "        text=re.sub(r'\\s+', ' ', text).strip()\n",
    "        new_texts.append(text)\n",
    "\n",
    "    return new_texts"
   ]
  },
  {
   "cell_type": "code",
   "execution_count": 5,
   "metadata": {},
   "outputs": [],
   "source": [
    "def remove_punc(sentences):\n",
    "    new_sentences=[]\n",
    "    exclude = list(set(string.punctuation))\n",
    "    exclude.extend([\"’\", \"‘\", \"—\"])\n",
    "    for sentence in tqdm(sentences):\n",
    "        s = ''.join(ch for ch in sentence if ch not in exclude)\n",
    "        new_sentences.append(s)\n",
    "    \n",
    "    return new_sentences"
   ]
  },
  {
   "cell_type": "code",
   "execution_count": 6,
   "metadata": {},
   "outputs": [
    {
     "name": "stderr",
     "output_type": "stream",
     "text": [
      "100%|██████████| 65041/65041 [01:38<00:00, 663.48it/s] \n",
      "100%|██████████| 65041/65041 [00:21<00:00, 2958.58it/s]\n"
     ]
    }
   ],
   "source": [
    "replace=[('\\u200c', ' '),\n",
    "         ('\\u200d', ' '),\n",
    "        ('\\xa0', ' '),\n",
    "        ('\\n', ' '),\n",
    "        ('\\r', ' ')]\n",
    "\n",
    "texts=remove_punc(texts)\n",
    "texts=replace_strings(texts, replace)"
   ]
  },
  {
   "cell_type": "code",
   "execution_count": 7,
   "metadata": {},
   "outputs": [
    {
     "name": "stdout",
     "output_type": "stream",
     "text": [
      "[['পিটার', 'বার্জ', 'পিটার', 'জন', 'পার্নেল', 'বার্জ', 'জন্ম', 'মে', 'মৃত্যু', 'অক্টোবর', 'কুইন্সল্যান্ডের', 'ব্রিসবেনের', 'ক্যাঙ্গারু', 'পয়েন্ট', 'এলাকায়', 'জন্মগ্রহণকারী', 'বিখ্যাত', 'অস্ট্রেলীয়', 'আন্তর্জাতিক', 'ক্রিকেট', 'তারকা', 'ছিলেন'], ['থেকে', 'সময়কালে', 'অস্ট্রেলিয়া', 'ক্রিকেট', 'দলের', 'অন্যতম', 'সদস্য', 'ছিলেন', 'তিনি'], ['ঘরোয়া', 'প্রথমশ্রেণীর', 'অস্ট্রেলীয়', 'ক্রিকেটে', 'কুইন্সল্যান্ডের', 'প্রতিনিধিত্ব', 'করেছেন'], ['দলে', 'তিনি', 'মূলতঃ', 'ডানহাতি', 'ব্যাটসম্যান', 'হিসেবে', 'খেলতেন'], ['এছাড়াও', 'ডানহাতে', 'মিডিয়াম', 'বোলিংয়ে', 'পারদর্শীতা', 'দেখিয়েছেন', 'পিটার', 'বার্জ'], ['থেকে', 'সময়কালে', 'ঘরোয়া', 'অস্ট্রেলীয়', 'প্রথমশ্রেণীর', 'ক্রিকেটে', 'কুইন্সল্যান্ডের', 'পক্ষে', 'খেলেছেন', 'তিনি'], ['সমগ্র', 'খেলোয়াড়ী', 'জীবনে', 'টেস্টে', 'অংশগ্রহণ', 'করেছেন', 'পিটার', 'বার্জ'], ['ফেব্রুয়ারি', 'তারিখে', 'ইংল্যান্ডের', 'বিপক্ষে', 'টেস্ট', 'অভিষেক', 'ঘটে', 'পিটার', 'বার্জের'], ['খেলোয়াড়ী', 'জীবন', 'থেকে', 'অবসর', 'নেয়ার', 'পর', 'ম্যাচ', 'রেফারির', 'দায়িত্ব', 'পালন', 'করে', 'প্রভূতঃ', 'সম্মান', 'কুড়ান'], ['এ', 'সময়', 'তিনি', 'টেস্ট', 'ও', 'টি', 'একদিনের', 'আন্তর্জাতিক', 'খেলা', 'পরিচালনা', 'করেছিলেন']]\n"
     ]
    }
   ],
   "source": [
    "body=[article.split('।') for article in texts]\n",
    "body=[item for sublist in body for item in sublist]\n",
    "body=[item.strip() for item in body if len(item.split())>1]\n",
    "\n",
    "body=[item.split() for item in body]\n",
    "\n",
    "print(body[:10])"
   ]
  },
  {
   "cell_type": "code",
   "execution_count": 10,
   "metadata": {},
   "outputs": [],
   "source": [
    "model = Word2Vec(body, size=200, window=5, min_count=10)"
   ]
  },
  {
   "cell_type": "code",
   "execution_count": 11,
   "metadata": {},
   "outputs": [
    {
     "name": "stdout",
     "output_type": "stream",
     "text": [
      "What are the words most similar to chele\n"
     ]
    },
    {
     "data": {
      "text/plain": [
       "[('মেয়ে', 0.8783878087997437),\n",
       " ('বোন', 0.8061619997024536),\n",
       " ('ভাই', 0.7748101949691772),\n",
       " ('কন্যা', 0.7453979253768921),\n",
       " ('সন্তান', 0.7181779146194458)]"
      ]
     },
     "execution_count": 11,
     "metadata": {},
     "output_type": "execute_result"
    }
   ],
   "source": [
    "print(\"What are the words most similar to chele\")\n",
    "model.wv.most_similar('ছেলে', topn=5)"
   ]
  },
  {
   "cell_type": "code",
   "execution_count": 12,
   "metadata": {},
   "outputs": [
    {
     "name": "stdout",
     "output_type": "stream",
     "text": [
      "What is Father + Girl - Boy =?\n"
     ]
    },
    {
     "data": {
      "text/plain": [
       "[('মা', 0.7676048278808594),\n",
       " ('পিতা', 0.692781925201416),\n",
       " ('দাদা', 0.6826045513153076),\n",
       " ('বান্ধবী', 0.6741564869880676),\n",
       " ('মামা', 0.6636669635772705)]"
      ]
     },
     "execution_count": 12,
     "metadata": {},
     "output_type": "execute_result"
    }
   ],
   "source": [
    "print(\"What is Father + Girl - Boy =?\")\n",
    "model.wv.most_similar(positive=['বাবা', 'মেয়ে'], negative=['ছেলে'], topn=5)"
   ]
  },
  {
   "cell_type": "code",
   "execution_count": 13,
   "metadata": {},
   "outputs": [
    {
     "name": "stdout",
     "output_type": "stream",
     "text": [
      "Find the odd one out\n"
     ]
    },
    {
     "name": "stderr",
     "output_type": "stream",
     "text": [
      "/Users/soham/.virtualenvs/upes/lib/python3.6/site-packages/gensim/models/keyedvectors.py:858: FutureWarning: arrays to stack must be passed as a \"sequence\" type such as list or tuple. Support for non-sequence iterables such as generators is deprecated as of NumPy 1.16 and will raise an error in the future.\n",
      "  vectors = vstack(self.word_vec(word, use_norm=True) for word in used_words).astype(REAL)\n"
     ]
    },
    {
     "data": {
      "text/plain": [
       "'রবীন্দ্রনাথ'"
      ]
     },
     "execution_count": 13,
     "metadata": {},
     "output_type": "execute_result"
    }
   ],
   "source": [
    "print('Find the odd one out')\n",
    "model.wv.doesnt_match(\"কলকাতা চেন্নাই দিল্লি রবীন্দ্রনাথ\".split())"
   ]
  },
  {
   "cell_type": "code",
   "execution_count": 16,
   "metadata": {},
   "outputs": [],
   "source": [
    "model.wv.save_word2vec_format('wiki_vector_text.txt', binary=False)\n",
    "model.wv.save_word2vec_format('wiki_vector_binary.txt', binary=True)"
   ]
  },
  {
   "cell_type": "code",
   "execution_count": null,
   "metadata": {},
   "outputs": [],
   "source": []
  }
 ],
 "metadata": {
  "kernelspec": {
   "display_name": "Python 3",
   "language": "python",
   "name": "python3"
  },
  "language_info": {
   "codemirror_mode": {
    "name": "ipython",
    "version": 3
   },
   "file_extension": ".py",
   "mimetype": "text/x-python",
   "name": "python",
   "nbconvert_exporter": "python",
   "pygments_lexer": "ipython3",
   "version": "3.6.5"
  }
 },
 "nbformat": 4,
 "nbformat_minor": 2
}
